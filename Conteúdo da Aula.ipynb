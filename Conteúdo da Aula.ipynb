{
 "cells": [
  {
   "cell_type": "markdown",
   "id": "2299a25e-8105-48bf-8405-7e7ccdc5d358",
   "metadata": {
    "tags": []
   },
   "source": [
    "# Treinamento Data Analytics com Python\n",
    "Por [André Mattos](mailto:andremattos@kpmg.com.br)\n",
    "\n",
    "[![Binder](https://mybinder.org/badge_logo.svg)](https://mybinder.org/v2/gh/areysdemattos/TRN_Python_KPMG/main)"
   ]
  },
  {
   "cell_type": "markdown",
   "id": "c8a3ba05-7c49-4c9f-9964-0d8d47df2991",
   "metadata": {
    "tags": []
   },
   "source": [
    "## Conteúdo"
   ]
  },
  {
   "cell_type": "markdown",
   "id": "2c3123ec-1b80-4164-a055-8da38fd21f35",
   "metadata": {},
   "source": [
    "TO-DO AJUSTAR\n",
    "\n",
    "1. Introdução ao Jupyter Notebook\n",
    "2. A Linguagem Python\n",
    "3. Importação e tratamento de dados com Pandas\n",
    "4. Criação de gráficos simples\n",
    "5. Criação de Dashboard com Bokeh"
   ]
  },
  {
   "cell_type": "markdown",
   "id": "64b01b95-8297-4b30-a401-caae196df22a",
   "metadata": {
    "tags": []
   },
   "source": [
    "## Introdução ao Jupyter"
   ]
  },
  {
   "cell_type": "markdown",
   "id": "d383f662-d3e0-4983-9f20-24c6a903d0d7",
   "metadata": {},
   "source": [
    "### O que é?"
   ]
  },
  {
   "cell_type": "markdown",
   "id": "5982e6de-6313-4109-a41c-003a84972a7d",
   "metadata": {},
   "source": [
    "A plataforma Jupyter uma plataforma interativa de desenvolvimento, voltada a execução imediata de scripts. Isto significa que, com o Jupyter, você pode escrever o código em células e executá-las individualmente, sem a necessidade de colocá-las em um arquivo de texto, compilar e gerar um executável.\n",
    "\n",
    "Geralmente instalada como componente do Anaconda Python, esta plataforma é capaz de executar scripts em diversar linguagens, incluindo Python, Lua, Julia, R, Javascript, e inúmeras outras. Jupyter é *de facto* a plataforma mais utilizada em Data Science com Python.\n",
    "\n",
    "O Jupyter Lab é uma evolução desta plataforma, em um ambiente organizado, capaz de executar multiplos notebooks de forma simultânea, além de uma organização em janelas subdivisíveis."
   ]
  },
  {
   "cell_type": "markdown",
   "id": "cff02777-a1f1-4e51-acab-3b48de9e340c",
   "metadata": {},
   "source": [
    "### Instalando"
   ]
  },
  {
   "cell_type": "markdown",
   "id": "1f8c8cab-2a31-4650-b3b6-762a9d59c22f",
   "metadata": {},
   "source": [
    "A maneira mais fácil de instalar o jupyter notebook é através da instalação do [Anaconda Python](https://www.anaconda.com/products/distribution).\n",
    "Para este treinamento, utilizaremos o ambiente de testes, compartilhado no início do treinamento.\n",
    "\n",
    "\n"
   ]
  },
  {
   "cell_type": "markdown",
   "id": "93f53287-0265-439b-ac1d-14942f0dd301",
   "metadata": {
    "tags": []
   },
   "source": [
    "### Componentes do Jupyter Lab"
   ]
  },
  {
   "cell_type": "markdown",
   "id": "32498216-c80d-4180-bd5b-b47b18205b0c",
   "metadata": {},
   "source": [
    "TO-DO"
   ]
  },
  {
   "cell_type": "markdown",
   "id": "da71c87c-51e6-488a-a463-00946b8c838f",
   "metadata": {},
   "source": [
    "## A Linguagem Python"
   ]
  },
  {
   "cell_type": "markdown",
   "id": "05ab1c53-967e-4f5d-895c-529dc7054eef",
   "metadata": {},
   "source": [
    "### Sintaxe"
   ]
  },
  {
   "cell_type": "markdown",
   "id": "4c379121-6762-453d-a6c4-e9b8579e28fa",
   "metadata": {},
   "source": [
    "Como é uma linguegem de programação desenvolvida com foco na usabilidade, a sintaxe do Python é muito simples.\n",
    "\n",
    "Diferente de outras linguagens, o Python não exige caracteres iniciando o código nem finalizando o programa, e com exceção de algumas regras de identação, basta escrever as funções e a ferramenta executa.\n",
    "\n",
    "Para inserir um comentário em Python, devemos utilizar o '#' precendendo o texto a ser comentado, como no exemplo abaixo."
   ]
  },
  {
   "cell_type": "code",
   "execution_count": 1,
   "id": "5c452994-a325-4d42-aac3-19f99da89d20",
   "metadata": {},
   "outputs": [],
   "source": [
    "#Este trecho será ignorado pela linguagem Python"
   ]
  },
  {
   "cell_type": "markdown",
   "id": "c42924c4-4e04-47fe-90e7-15101dad80ef",
   "metadata": {},
   "source": [
    "### Hello World!"
   ]
  },
  {
   "cell_type": "markdown",
   "id": "d82bc86c-cadc-4449-9a68-60f149417143",
   "metadata": {},
   "source": [
    "Uma das coisas mais fáceis de se fazer no Python é imprimir o texto 'Hello World!' em tela. Para isto, precisaremos apenas da função `print()`. Dentro da função, devemos colocar, em formato de texto, o que desejamos que seja impresso em tela.\n",
    "\n",
    "##### Tarefa 1:\n",
    "Crie um novo workbook e imprima o texto 'Hello World!'"
   ]
  },
  {
   "cell_type": "markdown",
   "id": "f292b2dc-3b19-482a-98ea-e90ac0cbf255",
   "metadata": {},
   "source": [
    "### Instalando e Importando Bibliotecas"
   ]
  },
  {
   "cell_type": "markdown",
   "id": "6401ecb7-2132-4c7e-a153-24382908ec8b",
   "metadata": {},
   "source": [
    "Em Python, nem tudo você precisa criar do zero. Existe uma infinidade de bibliotecas disponíveis, cada uma com sua função.\n",
    "\n",
    "Para instalar uma biblioteca, você pode utilizar o **pip**. O **pip** é um gestor de pacotes incluso no python. Seu mecanismo de busca, basea-se no repositório online [PyPI](https://pypi.org).\n",
    "\n",
    "Nosso ambiente já tem tudo o que precisamos pré-instalado. No entanto, caso quisessemos, por exemplo, instalar a biblioteca pandas, poderíamos utilizar o seguinte comando:\n",
    "\n",
    "    import sys\n",
    "    !{sys.executable} -m pip install pandas\n",
    "\n",
    "Esse comando tem algumas características interessantes. Note que, em primeiro lugar, utilizamos um comando chamado `import`. Esse comando tem a função de trazer uma biblioteca instalada para dentro do nosso código.\n",
    "\n",
    "Logo em seguida, nossa linha começa com uma exclamação. Essa exclamação tem a função de indicar ao Jupyter Notebook que a função que estamos solicitando será executada fora do ambiente Python.\n",
    "\n",
    "O texto entre chaves é utilizado para trazer para um ambiente de texto, o\n",
    "resultado de alguma operação Python. Neste exemplo, utilizamos a função `executable` da biblioteca `sys`, que nos traz o caminho da distribuição python sendo utilizada na execução do código. \n",
    "\n",
    "O argumento *-m*, indica ao Python que o próximo item a ser executado será uma biblioteca ou um módulo, e que este será executado como um script.\n",
    "\n",
    "> Caso tivessemos acesso direto à linha de comando do ambiente, poderíamos utilizar apenas as ultimas etapas, responsáveis pela instalação do pacote, através do comando `pip install pandas`."
   ]
  },
  {
   "cell_type": "markdown",
   "id": "2be92a74-bede-4ade-b998-da689513e6d9",
   "metadata": {},
   "source": [
    "### Operações básicas"
   ]
  },
  {
   "cell_type": "markdown",
   "id": "8aa35773-7d9f-4933-b4ac-4c58924afe96",
   "metadata": {},
   "source": [
    "Para realizar as operações básicas em Python, basta escrever livremente em qualquer célula a operação a ser realizada"
   ]
  },
  {
   "cell_type": "markdown",
   "id": "dcc001dc-d9d0-4ff1-bd22-8fda0f3122ca",
   "metadata": {},
   "source": [
    "#### Adição"
   ]
  },
  {
   "cell_type": "code",
   "execution_count": 2,
   "id": "e3859247-1a65-41ef-93ea-f60dbeeec2ff",
   "metadata": {},
   "outputs": [
    {
     "data": {
      "text/plain": [
       "5"
      ]
     },
     "execution_count": 2,
     "metadata": {},
     "output_type": "execute_result"
    }
   ],
   "source": [
    "2+3"
   ]
  },
  {
   "cell_type": "markdown",
   "id": "beb03624-98e2-4bff-a9a7-81acacc050b0",
   "metadata": {},
   "source": [
    "#### Multiplicação"
   ]
  },
  {
   "cell_type": "code",
   "execution_count": 3,
   "id": "7ffc7d4a-f2fd-4b8d-beb4-451f2e6a92a7",
   "metadata": {},
   "outputs": [
    {
     "data": {
      "text/plain": [
       "12"
      ]
     },
     "execution_count": 3,
     "metadata": {},
     "output_type": "execute_result"
    }
   ],
   "source": [
    "3*4"
   ]
  },
  {
   "cell_type": "markdown",
   "id": "c240b0bd-7869-409c-8c4b-02d36a089eed",
   "metadata": {},
   "source": [
    "#### Divisão"
   ]
  },
  {
   "cell_type": "code",
   "execution_count": 4,
   "id": "5e4cc160-caca-4b07-b9bd-11b3cf200937",
   "metadata": {},
   "outputs": [
    {
     "data": {
      "text/plain": [
       "3.0"
      ]
     },
     "execution_count": 4,
     "metadata": {},
     "output_type": "execute_result"
    }
   ],
   "source": [
    "6/2"
   ]
  },
  {
   "cell_type": "markdown",
   "id": "d6137ab2-da5c-43ec-a9dd-93856c5af3f0",
   "metadata": {},
   "source": [
    "#### Subtração"
   ]
  },
  {
   "cell_type": "code",
   "execution_count": 5,
   "id": "59a0c441-42e3-4201-9776-eb3208d58e1e",
   "metadata": {},
   "outputs": [
    {
     "data": {
      "text/plain": [
       "3"
      ]
     },
     "execution_count": 5,
     "metadata": {},
     "output_type": "execute_result"
    }
   ],
   "source": [
    "4-1"
   ]
  },
  {
   "cell_type": "markdown",
   "id": "81cfee32-620a-499e-a509-9ebe23b4e0e9",
   "metadata": {},
   "source": [
    "#### Concatenação de strings"
   ]
  },
  {
   "cell_type": "code",
   "execution_count": 6,
   "id": "d7f0ca68-1105-425b-8eef-cbcb7c2b2ea7",
   "metadata": {},
   "outputs": [
    {
     "data": {
      "text/plain": [
       "'Aula de Python'"
      ]
     },
     "execution_count": 6,
     "metadata": {},
     "output_type": "execute_result"
    }
   ],
   "source": [
    "'Aula ' + 'de '+ 'Python'"
   ]
  },
  {
   "cell_type": "markdown",
   "id": "eddf0a4f-a411-4e13-9e9b-04fd8b1dba30",
   "metadata": {},
   "source": [
    "#### Recorte de Strings"
   ]
  },
  {
   "cell_type": "code",
   "execution_count": 7,
   "id": "9b105e0b-23e9-4ffc-a4b4-29a94c8e287b",
   "metadata": {},
   "outputs": [
    {
     "data": {
      "text/plain": [
       "'Aula'"
      ]
     },
     "execution_count": 7,
     "metadata": {},
     "output_type": "execute_result"
    }
   ],
   "source": [
    "'Aula de Python'[:4]"
   ]
  },
  {
   "cell_type": "code",
   "execution_count": 8,
   "id": "386b558c-2d71-45bd-8c84-d389ce9030cb",
   "metadata": {},
   "outputs": [
    {
     "data": {
      "text/plain": [
       "'de'"
      ]
     },
     "execution_count": 8,
     "metadata": {},
     "output_type": "execute_result"
    }
   ],
   "source": [
    "'Aula de Python'[5:7]"
   ]
  },
  {
   "cell_type": "code",
   "execution_count": 9,
   "id": "1ee6ab31-f8ec-45c4-9025-6db74dc92101",
   "metadata": {},
   "outputs": [
    {
     "data": {
      "text/plain": [
       "'Python'"
      ]
     },
     "execution_count": 9,
     "metadata": {},
     "output_type": "execute_result"
    }
   ],
   "source": [
    "'Aula de Python'[-6:]"
   ]
  },
  {
   "cell_type": "markdown",
   "id": "3716b027-2f25-4cc7-8b33-087f2aed7cff",
   "metadata": {},
   "source": [
    "#### Reversão de Strings"
   ]
  },
  {
   "cell_type": "code",
   "execution_count": 10,
   "id": "b521e1d2-e353-4b7a-9a57-99d8878a4683",
   "metadata": {},
   "outputs": [
    {
     "data": {
      "text/plain": [
       "'nohtyP ed aluA'"
      ]
     },
     "execution_count": 10,
     "metadata": {},
     "output_type": "execute_result"
    }
   ],
   "source": [
    "'Aula de Python'[::-1]"
   ]
  },
  {
   "cell_type": "markdown",
   "id": "9e1b0444-7ee4-4d7e-808c-1c12f95f08fc",
   "metadata": {},
   "source": [
    "### Declarando Variáveis"
   ]
  },
  {
   "cell_type": "markdown",
   "id": "c9b28726-0744-4f39-8ddc-c68c974a7a3f",
   "metadata": {},
   "source": [
    "Declarar variáveis no Python é tão simples quanto escrever seu valor.\n",
    "\n",
    "Se queremos declarar uma variável de texto, por exemplo, basta declararmos seu nome, o símbolo de igual, e seu valor entre aspas.\n"
   ]
  },
  {
   "cell_type": "code",
   "execution_count": 11,
   "id": "e941b0ca",
   "metadata": {},
   "outputs": [
    {
     "name": "stdout",
     "output_type": "stream",
     "text": [
      "John Doe\n"
     ]
    }
   ],
   "source": [
    "nomeInstrutor = 'John Doe'\n",
    "print(nomeInstrutor)"
   ]
  },
  {
   "cell_type": "markdown",
   "id": "7cecf28c-c2c0-48a2-9cd5-b9ac9701532e",
   "metadata": {},
   "source": [
    "\n",
    "Da mesma maneira, para declarar um número interio, basta declararmos seu nome, seguido pelo símbolo de igual, e seu valor.\n"
   ]
  },
  {
   "cell_type": "code",
   "execution_count": 12,
   "id": "7bbd8f70",
   "metadata": {},
   "outputs": [
    {
     "name": "stdout",
     "output_type": "stream",
     "text": [
      "20\n"
     ]
    }
   ],
   "source": [
    "tamanhoTurma = 20\n",
    "print(tamanhoTurma)"
   ]
  },
  {
   "cell_type": "markdown",
   "id": "f54ca2d3-f665-47f6-ba0c-c3383ec9716d",
   "metadata": {},
   "source": [
    "E, para um número decimal, basta utilizar o ponto como separador decimal."
   ]
  },
  {
   "cell_type": "code",
   "execution_count": 13,
   "id": "5ae17986-75d9-4426-988f-e01e1d706cb3",
   "metadata": {},
   "outputs": [],
   "source": [
    "horasAula = 4.0"
   ]
  },
  {
   "cell_type": "markdown",
   "id": "ba79dfe5",
   "metadata": {},
   "source": [
    "Variáveis também podem ser declaradas a partir de operações em outras variáveis, como por exemplo:\n",
    "\n",
    "    "
   ]
  },
  {
   "cell_type": "code",
   "execution_count": 14,
   "id": "a2bd112e",
   "metadata": {},
   "outputs": [],
   "source": [
    "presentesTurma = tamanhoTurma*0.75"
   ]
  },
  {
   "cell_type": "markdown",
   "id": "71b40590-cb64-4e94-828b-b73c62d0face",
   "metadata": {},
   "source": [
    "Textos e números são apenas 2 dos muitos tipos de dados reconhecidos por Python.\n",
    "\n",
    "Para conhecer mais formatos, clique [aqui](https://www.w3schools.com/python/python_datatypes.asp)."
   ]
  },
  {
   "cell_type": "markdown",
   "id": "eb46d236-c0fe-4c19-af0f-3e12ae2f9bd8",
   "metadata": {},
   "source": [
    "### Coleções de Objetos"
   ]
  },
  {
   "cell_type": "markdown",
   "id": "80182018-d53c-4fe7-be85-74bea073cde8",
   "metadata": {},
   "source": [
    "Nem sempre conseguimos armazenar o valor em variáveis únicas. A fim de solucionar este problema, o Python possui algumas maneiras de armazenar e organizar conjuntos de dados."
   ]
  },
  {
   "cell_type": "markdown",
   "id": "101571e4-0ca4-4a86-a00e-80744c323910",
   "metadata": {},
   "source": [
    "#### Listas"
   ]
  },
  {
   "cell_type": "markdown",
   "id": "0f8546d5-0a4c-4eff-8d7b-0cc3a95b4260",
   "metadata": {},
   "source": [
    "As listas podem conter zero, um ou vários elementos em seu interior. Estes são armazenados de forma ordenada, são mutáveis e indexados.\n",
    "\n",
    "Para declarar uma lista, devemos nomeá-la como uma variável comum e então definir cada elemento em sua composição. As listas são facilmente reconhecíveis pelo uso de colchetes em sua declaração e de sua impressão."
   ]
  },
  {
   "cell_type": "code",
   "execution_count": 15,
   "id": "7f82f253-c3fa-4692-9f04-4bbd74a3456b",
   "metadata": {},
   "outputs": [
    {
     "name": "stdout",
     "output_type": "stream",
     "text": [
      "['Aula de Python', 'John Doe', 20]\n"
     ]
    }
   ],
   "source": [
    "listaTurma = ['Aula de Python',\n",
    "              nomeInstrutor,\n",
    "              tamanhoTurma,\n",
    "             ]\n",
    "\n",
    "print(listaTurma)"
   ]
  },
  {
   "cell_type": "markdown",
   "id": "f490e737-dfcf-4a27-8310-0eb6918324b0",
   "metadata": {},
   "source": [
    "Podemos também adicionar valores a uma lista, através da chamada '.append()', pertencente à classe de objetos lista"
   ]
  },
  {
   "cell_type": "code",
   "execution_count": 16,
   "id": "b108f6a0-c2ad-409d-9487-19c631f0e315",
   "metadata": {},
   "outputs": [
    {
     "name": "stdout",
     "output_type": "stream",
     "text": [
      "['Aula de Python', 'John Doe', 20, 15.0]\n"
     ]
    }
   ],
   "source": [
    "listaTurma.append(presentesTurma)\n",
    "\n",
    "print(listaTurma)"
   ]
  },
  {
   "cell_type": "markdown",
   "id": "84a3681d-2f85-460a-8636-385f874aacf0",
   "metadata": {},
   "source": [
    "Caso desejemos iterar entre os elementos de uma lista, podemos utilizar de índices como no exemplo abaixo:"
   ]
  },
  {
   "cell_type": "code",
   "execution_count": 17,
   "id": "2559f1a4-5c09-4c8d-ac43-1f5f42fdd960",
   "metadata": {},
   "outputs": [
    {
     "name": "stdout",
     "output_type": "stream",
     "text": [
      "15.0\n"
     ]
    }
   ],
   "source": [
    "totalAlunosPresentes = listaTurma[3]\n",
    "print(totalAlunosPresentes)"
   ]
  },
  {
   "cell_type": "markdown",
   "id": "2298e9c5-fbe6-48bc-bad0-d77f4b303622",
   "metadata": {},
   "source": [
    "> Note que o iterador 3 refere-se ao quarto elemento da lista. Isso ocorre porque, em Python, o primeiro elemento é sempre representado pelo número zero."
   ]
  },
  {
   "cell_type": "markdown",
   "id": "50781e7e-bfb3-4b52-a7d3-e8ddc5cf96d5",
   "metadata": {},
   "source": [
    "#### Tuples"
   ]
  },
  {
   "cell_type": "markdown",
   "id": "d8613316-3dc6-48ca-ab23-e7c193d1029b",
   "metadata": {},
   "source": [
    "Os tuples podem conter zero, um ou vários elementos em seu interior. Estes, por sua vez, são armazenados de forma ordenada e indexados como nas listas, porém são imutáveis. Uma vez declarados, não é possível alterar os valores em seu interior, ou adicionar mais elementos ao mesmo, sem que o mesmo seja reescrito completamente.\n",
    "\n",
    "Para declarar um tuple, devemos nomeá-lo como uma variável comum e então definir cada elemento em sua composição. Os tuples são facilmente reconhecíveis pelo uso de parenteses em sua declaração e de sua impressão."
   ]
  },
  {
   "cell_type": "code",
   "execution_count": 18,
   "id": "de512883-9704-4b18-a0a9-ea39ce22582e",
   "metadata": {},
   "outputs": [
    {
     "name": "stdout",
     "output_type": "stream",
     "text": [
      "('Aula de Python', 'John Doe', 20)\n"
     ]
    }
   ],
   "source": [
    "tupleTurma = ('Aula de Python',\n",
    "              nomeInstrutor,\n",
    "              tamanhoTurma\n",
    "             )\n",
    "print(tupleTurma)"
   ]
  },
  {
   "cell_type": "markdown",
   "id": "3c9ebe27-e8e1-43ea-b7f6-19f14ec4df21",
   "metadata": {},
   "source": [
    "Os elementos dentro de um tuple podem ser acessados de forma similar às listas, com o uso de um índice, iniciado no número 0"
   ]
  },
  {
   "cell_type": "code",
   "execution_count": 19,
   "id": "041fc90b-b56e-4097-a5e5-292bb596879b",
   "metadata": {},
   "outputs": [
    {
     "name": "stdout",
     "output_type": "stream",
     "text": [
      "John Doe\n"
     ]
    }
   ],
   "source": [
    "nomedoInstrutor = tupleTurma[1]\n",
    "print(nomedoInstrutor)"
   ]
  },
  {
   "cell_type": "markdown",
   "id": "71301e4a-df62-421b-b69b-c2cbd3d5876e",
   "metadata": {},
   "source": [
    "### Loops e Condicionais"
   ]
  },
  {
   "cell_type": "markdown",
   "id": "d30fd0b2-df23-4c17-b450-d0cd5543e2c3",
   "metadata": {},
   "source": [
    "Nem todo código é linear. Muitas vezes temos que executar operações repetidas"
   ]
  },
  {
   "cell_type": "markdown",
   "id": "25dad682-4de0-4bb1-8c60-124ef3f321a6",
   "metadata": {},
   "source": [
    "#### Clausula SE"
   ]
  },
  {
   "cell_type": "markdown",
   "id": "476655e7-0a56-48ca-a5c9-b7427f79a273",
   "metadata": {},
   "source": [
    "A mais básica das operações condicionais é a clausula SE. Esta, executa uma série de operações caso a condição inicial seja atendida, independente do ocorrido em seu interior."
   ]
  },
  {
   "cell_type": "code",
   "execution_count": null,
   "id": "67070da9-7226-4cb3-b1ed-7e1d8fff3409",
   "metadata": {},
   "outputs": [],
   "source": []
  },
  {
   "cell_type": "markdown",
   "id": "c6e15024-ade4-4355-a11a-2f3b44709597",
   "metadata": {},
   "source": []
  },
  {
   "cell_type": "markdown",
   "id": "49367b74-6cdd-4371-87b5-f504e34f9e87",
   "metadata": {},
   "source": [
    "## Importação de dados com Pandas"
   ]
  },
  {
   "cell_type": "markdown",
   "id": "1264af49-5e88-47d4-84e3-bd6a5bdc9ca4",
   "metadata": {},
   "source": [
    "Pandas é uma das bibliotecas mais versáteis em Python. Contemplando desde a importação de dados, até o processamento de dataframes, essa biblioteca é um conjunto completo para a análise de dados. \n",
    "\n",
    "Vamos começar por importar essa biblioteca em nosso notebook"
   ]
  },
  {
   "cell_type": "code",
   "execution_count": 20,
   "id": "eca14a82-292d-413f-9860-eaf6452b76a1",
   "metadata": {},
   "outputs": [],
   "source": [
    "import pandas as pd"
   ]
  },
  {
   "cell_type": "markdown",
   "id": "971b3b4f-42d2-451b-8ad2-29ff6d2964e6",
   "metadata": {},
   "source": [
    "Importante notar que, ao final da nossa importação, temos o componente `as pd`. Isso faz com que a biblioteca utilize esse novo *alias* quando for referenciada.\n",
    "\n",
    "O próximo passo será importar a base de dados"
   ]
  }
 ],
 "metadata": {
  "kernelspec": {
   "display_name": "Python 3 (ipykernel)",
   "language": "python",
   "name": "python3"
  },
  "language_info": {
   "codemirror_mode": {
    "name": "ipython",
    "version": 3
   },
   "file_extension": ".py",
   "mimetype": "text/x-python",
   "name": "python",
   "nbconvert_exporter": "python",
   "pygments_lexer": "ipython3",
   "version": "3.9.13"
  },
  "toc-autonumbering": false,
  "toc-showcode": true,
  "vscode": {
   "interpreter": {
    "hash": "6d36d916541b3c15490082e08f799cc97d01468d8253429cd3dccdb37feb738b"
   }
  }
 },
 "nbformat": 4,
 "nbformat_minor": 5
}
