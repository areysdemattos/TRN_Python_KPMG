{
 "cells": [
  {
   "cell_type": "markdown",
   "id": "2299a25e-8105-48bf-8405-7e7ccdc5d358",
   "metadata": {},
   "source": [
    "# Treinamento Data Analytics com Python\n",
    "Por [André Mattos](mailto:andremattos@kpmg.com.br)"
   ]
  },
  {
   "cell_type": "markdown",
   "id": "c8a3ba05-7c49-4c9f-9964-0d8d47df2991",
   "metadata": {},
   "source": [
    "## Conteúdo"
   ]
  },
  {
   "cell_type": "markdown",
   "id": "2c3123ec-1b80-4164-a055-8da38fd21f35",
   "metadata": {},
   "source": [
    "TO-DO AJUSTAR\n",
    "\n",
    "1. Introdução ao Jupyter Notebook\n",
    "2. A Linguagem Python\n",
    "3. Importação e tratamento de dados com Pandas\n",
    "4. Criação de gráficos simples\n",
    "5. Criação de Dashboard com Bokeh"
   ]
  },
  {
   "cell_type": "markdown",
   "id": "64b01b95-8297-4b30-a401-caae196df22a",
   "metadata": {
    "tags": []
   },
   "source": [
    "## Introdução ao Jupyter"
   ]
  },
  {
   "cell_type": "markdown",
   "id": "d383f662-d3e0-4983-9f20-24c6a903d0d7",
   "metadata": {},
   "source": [
    "### O que é?"
   ]
  },
  {
   "cell_type": "markdown",
   "id": "5982e6de-6313-4109-a41c-003a84972a7d",
   "metadata": {},
   "source": [
    "A plataforma Jupyter uma plataforma interativa de desenvolvimento, voltada a execução imediata de scripts. Isto significa que, com o Jupyter, você pode escrever o código em células e executá-las individualmente, sem a necessidade de colocá-las em um arquivo de texto, compilar e gerar um executável.\n",
    "\n",
    "Geralmente instalada como componente do Anaconda Python, esta plataforma é capaz de executar scripts em diversar linguagens, incluindo Python, Lua, Julia, R, Javascript, e inúmeras outras. Jupyter é *de facto* a plataforma mais utilizada em Data Science com Python.\n",
    "\n",
    "O Jupyter Lab é uma evolução desta plataforma, em um ambiente organizado, capaz de executar multiplos notebooks de forma simultânea, além de uma organização em janelas subdivisíveis."
   ]
  },
  {
   "cell_type": "markdown",
   "id": "cff02777-a1f1-4e51-acab-3b48de9e340c",
   "metadata": {},
   "source": [
    "### Instalando"
   ]
  },
  {
   "cell_type": "markdown",
   "id": "1f8c8cab-2a31-4650-b3b6-762a9d59c22f",
   "metadata": {},
   "source": [
    "A maneira mais fácil de instalar o jupyter notebook é através da instalação do [Anaconda Python](https://www.anaconda.com/products/distribution).\n",
    "Para este treinamento, utilizaremos o ambiente de testes, compartilhado no início do treinamento.\n",
    "\n",
    "\n"
   ]
  },
  {
   "cell_type": "markdown",
   "id": "93f53287-0265-439b-ac1d-14942f0dd301",
   "metadata": {
    "tags": []
   },
   "source": [
    "### Componentes do Jupyter Lab"
   ]
  },
  {
   "cell_type": "markdown",
   "id": "32498216-c80d-4180-bd5b-b47b18205b0c",
   "metadata": {},
   "source": [
    "TO-DO"
   ]
  },
  {
   "cell_type": "markdown",
   "id": "da71c87c-51e6-488a-a463-00946b8c838f",
   "metadata": {},
   "source": [
    "## A Linguagem Python"
   ]
  },
  {
   "cell_type": "markdown",
   "id": "c42924c4-4e04-47fe-90e7-15101dad80ef",
   "metadata": {},
   "source": [
    "### Hello World!"
   ]
  },
  {
   "cell_type": "markdown",
   "id": "d82bc86c-cadc-4449-9a68-60f149417143",
   "metadata": {},
   "source": [
    "Uma das coisas mais fáceis de se fazer no Python é imprimir o texto 'Hello World!' em tela. Para isto, precisaremos apenas da função `print()`. Dentro da função, devemos colocar, em formato de texto, o que desejamos que seja impresso em tela.\n",
    "\n",
    "##### Tarefa 1:\n",
    "Na célula abaixo, imprima o texto 'Hello World'"
   ]
  },
  {
   "cell_type": "code",
   "execution_count": null,
   "id": "2ee99db3-8a8d-4382-a57a-950684d54ab2",
   "metadata": {},
   "outputs": [],
   "source": []
  },
  {
   "cell_type": "markdown",
   "id": "9e1acb3f-f9d5-43ea-bc17-5556415a92e0",
   "metadata": {},
   "source": [
    "Parabéns, você criou seu primeiro programa em Python!\n",
    "\n",
    "Note que no Python, não precisamos de nenhum caractere enunciando o início do programa, assim como nenhum caractere indicando o final de uma linha ou do programa."
   ]
  },
  {
   "cell_type": "markdown",
   "id": "f292b2dc-3b19-482a-98ea-e90ac0cbf255",
   "metadata": {},
   "source": [
    "### Instalando e Importando Bibliotecas"
   ]
  },
  {
   "cell_type": "markdown",
   "id": "6401ecb7-2132-4c7e-a153-24382908ec8b",
   "metadata": {},
   "source": [
    "Em Python, nem tudo você precisa criar do zero. Existe uma infinidade de bibliotecas disponíveis, cada uma com sua função.\n",
    "\n",
    "Para instalar uma biblioteca, você pode utilizar o **pip**. O **pip** é um gestor de pacotes incluso no python. Seu mecanismo de busca, basea-se no repositório online [PyPI](https://pypi.org).\n",
    "\n",
    "Nosso ambiente já tem tudo o que precisamos pré-instalado. No entanto, caso quisessemos, por exemplo, instalar a biblioteca pandas, poderíamos utilizar o seguinte comando:\n",
    "\n",
    "    import sys\n",
    "    !{sys.executable} -m pip install pandas\n",
    "\n",
    "Esse comando tem algumas características interessantes. Note que, em primeiro lugar, utilizamos um comando chamado `import`. Esse comando tem a função de trazer uma biblioteca instalada para dentro do nosso código.\n",
    "\n",
    "Logo em seguida, nossa linha começa com uma exclamação. Essa exclamação tem a função de indicar ao Jupyter Notebook que a função que estamos solicitando será executada fora do ambiente Python.\n",
    "\n",
    "O texto entre chaves é utilizado para trazer para um ambiente de texto, o\n",
    "resultado de alguma operação Python. Neste exemplo, utilizamos a função `executable` da biblioteca `sys`, que nos traz o caminho da distribuição python sendo utilizada na execução do código. \n",
    "\n",
    "O argumento *-m*, indica ao Python que o próximo item a ser executado será uma biblioteca ou um módulo, e que este será executado como um script.\n",
    "\n",
    "> Caso tivessemos acesso direto à linha de comando do ambiente, poderíamos utilizar apenas as ultimas etapas, responsáveis pela instalação do pacote, através do comando `pip install pandas`."
   ]
  },
  {
   "cell_type": "markdown",
   "id": "05ab1c53-967e-4f5d-895c-529dc7054eef",
   "metadata": {},
   "source": [
    "### Sintaxe"
   ]
  },
  {
   "cell_type": "markdown",
   "id": "4c379121-6762-453d-a6c4-e9b8579e28fa",
   "metadata": {},
   "source": [
    "Como é uma linguegem de programação desenvolvida com foco na usabilidade, a sintaxe do Python é muito simples.\n",
    "\n",
    "Diferente de outras linguagens, o Python não exige caracteres iniciando o código nem finalizando o programa, e com exceção de algumas regras de identação, basta escrever as funções e a ferramenta executa."
   ]
  },
  {
   "cell_type": "markdown",
   "id": "2be92a74-bede-4ade-b998-da689513e6d9",
   "metadata": {},
   "source": [
    "## Operações básicas"
   ]
  },
  {
   "cell_type": "code",
   "execution_count": null,
   "id": "f897d97f-44a3-4048-8fc8-b79381505f53",
   "metadata": {},
   "outputs": [],
   "source": []
  },
  {
   "cell_type": "markdown",
   "id": "9e1b0444-7ee4-4d7e-808c-1c12f95f08fc",
   "metadata": {},
   "source": [
    "### Declarando Variáveis"
   ]
  },
  {
   "cell_type": "markdown",
   "id": "c9b28726-0744-4f39-8ddc-c68c974a7a3f",
   "metadata": {},
   "source": [
    "Declarar variáveis no Python é tão simples quanto escrever seu valor.\n",
    "\n",
    "Se queremos declarar uma variável de texto, por exemplo, basta declararmos seu nome, o símbolo de igual, e seu valor entre aspas.\n"
   ]
  },
  {
   "cell_type": "code",
   "execution_count": 1,
   "id": "e941b0ca",
   "metadata": {},
   "outputs": [],
   "source": [
    "nomeInstrutor = 'André Mattos'"
   ]
  },
  {
   "cell_type": "markdown",
   "id": "7cecf28c-c2c0-48a2-9cd5-b9ac9701532e",
   "metadata": {},
   "source": [
    "\n",
    "Da mesma maneira, para declarar uma variável numérica, basta declararmos seu nome, seguido pelo símbolo de igual, e seu valor.\n",
    "\n",
    "    \n",
    "\n"
   ]
  },
  {
   "cell_type": "code",
   "execution_count": 2,
   "id": "7bbd8f70",
   "metadata": {},
   "outputs": [],
   "source": [
    "tamanhoTurma = 20"
   ]
  },
  {
   "cell_type": "markdown",
   "id": "ba79dfe5",
   "metadata": {},
   "source": [
    "Variáveis também podem ser declaradas a partir de operações em outras variáveis, como por exemplo:\n",
    "\n",
    "    "
   ]
  },
  {
   "cell_type": "code",
   "execution_count": 3,
   "id": "a2bd112e",
   "metadata": {},
   "outputs": [],
   "source": [
    "presentesTurma = tamanhoTurma*0.75"
   ]
  },
  {
   "cell_type": "markdown",
   "id": "49367b74-6cdd-4371-87b5-f504e34f9e87",
   "metadata": {},
   "source": [
    "## Importação de dados com Pandas"
   ]
  },
  {
   "cell_type": "markdown",
   "id": "1264af49-5e88-47d4-84e3-bd6a5bdc9ca4",
   "metadata": {},
   "source": [
    "Pandas é uma das bibliotecas mais versáteis em Python. Contemplando desde a importação de dados, até o processamento de dataframes, essa biblioteca é um conjunto completo para a análise de dados. \n",
    "\n",
    "Vamos começar por importar essa biblioteca em nosso notebook"
   ]
  },
  {
   "cell_type": "code",
   "execution_count": 4,
   "id": "eca14a82-292d-413f-9860-eaf6452b76a1",
   "metadata": {},
   "outputs": [],
   "source": [
    "import pandas as pd"
   ]
  },
  {
   "cell_type": "markdown",
   "id": "971b3b4f-42d2-451b-8ad2-29ff6d2964e6",
   "metadata": {},
   "source": [
    "Importante notar que, ao final da nossa importação, temos o componente `as pd`. Isso faz com que a biblioteca utilize esse novo *alias* quando for referenciada.\n",
    "\n",
    "O próximo passo será importar a base de dados"
   ]
  }
 ],
 "metadata": {
  "kernelspec": {
   "display_name": "Python 3 (ipykernel)",
   "language": "python",
   "name": "python3"
  },
  "language_info": {
   "codemirror_mode": {
    "name": "ipython",
    "version": 3
   },
   "file_extension": ".py",
   "mimetype": "text/x-python",
   "name": "python",
   "nbconvert_exporter": "python",
   "pygments_lexer": "ipython3",
   "version": "3.9.13"
  },
  "toc-autonumbering": false,
  "toc-showcode": true,
  "vscode": {
   "interpreter": {
    "hash": "6d36d916541b3c15490082e08f799cc97d01468d8253429cd3dccdb37feb738b"
   }
  }
 },
 "nbformat": 4,
 "nbformat_minor": 5
}
