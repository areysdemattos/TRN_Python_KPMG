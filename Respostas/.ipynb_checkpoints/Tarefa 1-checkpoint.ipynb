{
 "cells": [
  {
   "cell_type": "markdown",
   "id": "eee17ec4-1a55-457d-82d8-f4da210f07c7",
   "metadata": {},
   "source": [
    "# Tarefa 1:"
   ]
  },
  {
   "cell_type": "code",
   "execution_count": 2,
   "id": "5e601788-cdf4-44ba-82fe-5d4442a13cc2",
   "metadata": {},
   "outputs": [
    {
     "name": "stdout",
     "output_type": "stream",
     "text": [
      "Hello World!\n"
     ]
    }
   ],
   "source": [
    "print('Hello World!')"
   ]
  }
 ],
 "metadata": {
  "kernelspec": {
   "display_name": "Python 3 (ipykernel)",
   "language": "python",
   "name": "python3"
  },
  "language_info": {
   "codemirror_mode": {
    "name": "ipython",
    "version": 3
   },
   "file_extension": ".py",
   "mimetype": "text/x-python",
   "name": "python",
   "nbconvert_exporter": "python",
   "pygments_lexer": "ipython3",
   "version": "3.9.13"
  }
 },
 "nbformat": 4,
 "nbformat_minor": 5
}
